{
 "cells": [
  {
   "cell_type": "markdown",
   "metadata": {},
   "source": [
    "# Libraries is used for this CAPM model:"
   ]
  },
  {
   "cell_type": "code",
   "execution_count": 2,
   "metadata": {
    "pycharm": {
     "is_executing": true
    }
   },
   "outputs": [],
   "source": [
    "%matplotlib inline\n",
    "from scipy import stats\n",
    "import pandas as pd\n",
    "import pandas_datareader as web    \n",
    "import datetime\n",
    "import matplotlib.pyplot as plt"
   ]
  },
  {
   "cell_type": "markdown",
   "metadata": {},
   "source": [
    "# Financial data and preprocessing"
   ]
  },
  {
   "cell_type": "markdown",
   "metadata": {},
   "source": [
    "## Get & check data from Yahoo Finance "
   ]
  },
  {
   "cell_type": "code",
   "execution_count": 5,
   "metadata": {},
   "outputs": [],
   "source": [
    "start = datetime.datetime(2010,1,1)\n",
    "end = datetime.datetime(2022,1,10)"
   ]
  },
  {
   "cell_type": "code",
   "execution_count": 7,
   "metadata": {},
   "outputs": [
    {
     "name": "stdout",
     "output_type": "stream",
     "text": [
      "[*********************100%***********************]  1 of 1 completed\n"
     ]
    },
    {
     "data": {
      "text/html": [
       "<div>\n",
       "<style scoped>\n",
       "    .dataframe tbody tr th:only-of-type {\n",
       "        vertical-align: middle;\n",
       "    }\n",
       "\n",
       "    .dataframe tbody tr th {\n",
       "        vertical-align: top;\n",
       "    }\n",
       "\n",
       "    .dataframe thead th {\n",
       "        text-align: right;\n",
       "    }\n",
       "</style>\n",
       "<table border=\"1\" class=\"dataframe\">\n",
       "  <thead>\n",
       "    <tr style=\"text-align: right;\">\n",
       "      <th></th>\n",
       "      <th>Open</th>\n",
       "      <th>High</th>\n",
       "      <th>Low</th>\n",
       "      <th>Close</th>\n",
       "      <th>Adj Close</th>\n",
       "      <th>Volume</th>\n",
       "    </tr>\n",
       "    <tr>\n",
       "      <th>Date</th>\n",
       "      <th></th>\n",
       "      <th></th>\n",
       "      <th></th>\n",
       "      <th></th>\n",
       "      <th></th>\n",
       "      <th></th>\n",
       "    </tr>\n",
       "  </thead>\n",
       "  <tbody>\n",
       "    <tr>\n",
       "      <th>2010-01-04</th>\n",
       "      <td>112.370003</td>\n",
       "      <td>113.389999</td>\n",
       "      <td>111.510002</td>\n",
       "      <td>113.330002</td>\n",
       "      <td>88.454201</td>\n",
       "      <td>118944600</td>\n",
       "    </tr>\n",
       "    <tr>\n",
       "      <th>2010-01-05</th>\n",
       "      <td>113.260002</td>\n",
       "      <td>113.680000</td>\n",
       "      <td>112.849998</td>\n",
       "      <td>113.629997</td>\n",
       "      <td>88.688362</td>\n",
       "      <td>111579900</td>\n",
       "    </tr>\n",
       "    <tr>\n",
       "      <th>2010-01-06</th>\n",
       "      <td>113.519997</td>\n",
       "      <td>113.989998</td>\n",
       "      <td>113.430000</td>\n",
       "      <td>113.709999</td>\n",
       "      <td>88.750786</td>\n",
       "      <td>116074400</td>\n",
       "    </tr>\n",
       "    <tr>\n",
       "      <th>2010-01-07</th>\n",
       "      <td>113.500000</td>\n",
       "      <td>114.330002</td>\n",
       "      <td>113.180000</td>\n",
       "      <td>114.190002</td>\n",
       "      <td>89.125427</td>\n",
       "      <td>131091100</td>\n",
       "    </tr>\n",
       "    <tr>\n",
       "      <th>2010-01-08</th>\n",
       "      <td>113.889999</td>\n",
       "      <td>114.620003</td>\n",
       "      <td>113.660004</td>\n",
       "      <td>114.570000</td>\n",
       "      <td>89.422028</td>\n",
       "      <td>126402800</td>\n",
       "    </tr>\n",
       "    <tr>\n",
       "      <th>...</th>\n",
       "      <td>...</td>\n",
       "      <td>...</td>\n",
       "      <td>...</td>\n",
       "      <td>...</td>\n",
       "      <td>...</td>\n",
       "      <td>...</td>\n",
       "    </tr>\n",
       "    <tr>\n",
       "      <th>2022-01-03</th>\n",
       "      <td>476.299988</td>\n",
       "      <td>477.850006</td>\n",
       "      <td>473.850006</td>\n",
       "      <td>477.709991</td>\n",
       "      <td>470.083649</td>\n",
       "      <td>72668200</td>\n",
       "    </tr>\n",
       "    <tr>\n",
       "      <th>2022-01-04</th>\n",
       "      <td>479.220001</td>\n",
       "      <td>479.980011</td>\n",
       "      <td>475.579987</td>\n",
       "      <td>477.549988</td>\n",
       "      <td>469.926208</td>\n",
       "      <td>71178700</td>\n",
       "    </tr>\n",
       "    <tr>\n",
       "      <th>2022-01-05</th>\n",
       "      <td>477.160004</td>\n",
       "      <td>477.980011</td>\n",
       "      <td>468.279999</td>\n",
       "      <td>468.380005</td>\n",
       "      <td>460.902618</td>\n",
       "      <td>104538900</td>\n",
       "    </tr>\n",
       "    <tr>\n",
       "      <th>2022-01-06</th>\n",
       "      <td>467.890015</td>\n",
       "      <td>470.820007</td>\n",
       "      <td>465.429993</td>\n",
       "      <td>467.940002</td>\n",
       "      <td>460.469635</td>\n",
       "      <td>86858900</td>\n",
       "    </tr>\n",
       "    <tr>\n",
       "      <th>2022-01-07</th>\n",
       "      <td>467.950012</td>\n",
       "      <td>469.200012</td>\n",
       "      <td>464.649994</td>\n",
       "      <td>466.089996</td>\n",
       "      <td>458.649170</td>\n",
       "      <td>85111600</td>\n",
       "    </tr>\n",
       "  </tbody>\n",
       "</table>\n",
       "<p>3026 rows × 6 columns</p>\n",
       "</div>"
      ],
      "text/plain": [
       "                  Open        High         Low       Close   Adj Close  \\\n",
       "Date                                                                     \n",
       "2010-01-04  112.370003  113.389999  111.510002  113.330002   88.454201   \n",
       "2010-01-05  113.260002  113.680000  112.849998  113.629997   88.688362   \n",
       "2010-01-06  113.519997  113.989998  113.430000  113.709999   88.750786   \n",
       "2010-01-07  113.500000  114.330002  113.180000  114.190002   89.125427   \n",
       "2010-01-08  113.889999  114.620003  113.660004  114.570000   89.422028   \n",
       "...                ...         ...         ...         ...         ...   \n",
       "2022-01-03  476.299988  477.850006  473.850006  477.709991  470.083649   \n",
       "2022-01-04  479.220001  479.980011  475.579987  477.549988  469.926208   \n",
       "2022-01-05  477.160004  477.980011  468.279999  468.380005  460.902618   \n",
       "2022-01-06  467.890015  470.820007  465.429993  467.940002  460.469635   \n",
       "2022-01-07  467.950012  469.200012  464.649994  466.089996  458.649170   \n",
       "\n",
       "               Volume  \n",
       "Date                   \n",
       "2010-01-04  118944600  \n",
       "2010-01-05  111579900  \n",
       "2010-01-06  116074400  \n",
       "2010-01-07  131091100  \n",
       "2010-01-08  126402800  \n",
       "...               ...  \n",
       "2022-01-03   72668200  \n",
       "2022-01-04   71178700  \n",
       "2022-01-05  104538900  \n",
       "2022-01-06   86858900  \n",
       "2022-01-07   85111600  \n",
       "\n",
       "[3026 rows x 6 columns]"
      ]
     },
     "execution_count": 7,
     "metadata": {},
     "output_type": "execute_result"
    }
   ],
   "source": [
    "import yfinance  as yf\n",
    "df_spy = yf.download('SPY', start=start, end=end)\n",
    "df_spy"
   ]
  },
  {
   "cell_type": "code",
   "execution_count": 8,
   "metadata": {},
   "outputs": [
    {
     "name": "stdout",
     "output_type": "stream",
     "text": [
      "[*********************100%***********************]  1 of 1 completed\n"
     ]
    },
    {
     "data": {
      "text/html": [
       "<div>\n",
       "<style scoped>\n",
       "    .dataframe tbody tr th:only-of-type {\n",
       "        vertical-align: middle;\n",
       "    }\n",
       "\n",
       "    .dataframe tbody tr th {\n",
       "        vertical-align: top;\n",
       "    }\n",
       "\n",
       "    .dataframe thead th {\n",
       "        text-align: right;\n",
       "    }\n",
       "</style>\n",
       "<table border=\"1\" class=\"dataframe\">\n",
       "  <thead>\n",
       "    <tr style=\"text-align: right;\">\n",
       "      <th></th>\n",
       "      <th>Open</th>\n",
       "      <th>High</th>\n",
       "      <th>Low</th>\n",
       "      <th>Close</th>\n",
       "      <th>Adj Close</th>\n",
       "      <th>Volume</th>\n",
       "    </tr>\n",
       "    <tr>\n",
       "      <th>Date</th>\n",
       "      <th></th>\n",
       "      <th></th>\n",
       "      <th></th>\n",
       "      <th></th>\n",
       "      <th></th>\n",
       "      <th></th>\n",
       "    </tr>\n",
       "  </thead>\n",
       "  <tbody>\n",
       "    <tr>\n",
       "      <th>2010-01-04</th>\n",
       "      <td>17.333965</td>\n",
       "      <td>17.969639</td>\n",
       "      <td>17.305504</td>\n",
       "      <td>17.960152</td>\n",
       "      <td>11.128053</td>\n",
       "      <td>54898644</td>\n",
       "    </tr>\n",
       "    <tr>\n",
       "      <th>2010-01-05</th>\n",
       "      <td>17.950665</td>\n",
       "      <td>17.960152</td>\n",
       "      <td>17.599621</td>\n",
       "      <td>17.703985</td>\n",
       "      <td>10.969335</td>\n",
       "      <td>45714931</td>\n",
       "    </tr>\n",
       "    <tr>\n",
       "      <th>2010-01-06</th>\n",
       "      <td>17.703985</td>\n",
       "      <td>17.846300</td>\n",
       "      <td>17.561670</td>\n",
       "      <td>17.647058</td>\n",
       "      <td>10.934059</td>\n",
       "      <td>43640975</td>\n",
       "    </tr>\n",
       "    <tr>\n",
       "      <th>2010-01-07</th>\n",
       "      <td>17.685009</td>\n",
       "      <td>17.713472</td>\n",
       "      <td>17.514231</td>\n",
       "      <td>17.580645</td>\n",
       "      <td>10.892910</td>\n",
       "      <td>41557112</td>\n",
       "    </tr>\n",
       "    <tr>\n",
       "      <th>2010-01-08</th>\n",
       "      <td>17.666035</td>\n",
       "      <td>17.751423</td>\n",
       "      <td>17.571157</td>\n",
       "      <td>17.722960</td>\n",
       "      <td>10.981088</td>\n",
       "      <td>32049716</td>\n",
       "    </tr>\n",
       "    <tr>\n",
       "      <th>...</th>\n",
       "      <td>...</td>\n",
       "      <td>...</td>\n",
       "      <td>...</td>\n",
       "      <td>...</td>\n",
       "      <td>...</td>\n",
       "      <td>...</td>\n",
       "    </tr>\n",
       "    <tr>\n",
       "      <th>2022-01-03</th>\n",
       "      <td>58.500000</td>\n",
       "      <td>58.549999</td>\n",
       "      <td>56.340000</td>\n",
       "      <td>56.650002</td>\n",
       "      <td>54.868088</td>\n",
       "      <td>57219200</td>\n",
       "    </tr>\n",
       "    <tr>\n",
       "      <th>2022-01-04</th>\n",
       "      <td>56.220001</td>\n",
       "      <td>56.430000</td>\n",
       "      <td>53.939999</td>\n",
       "      <td>54.529999</td>\n",
       "      <td>52.814774</td>\n",
       "      <td>66993100</td>\n",
       "    </tr>\n",
       "    <tr>\n",
       "      <th>2022-01-05</th>\n",
       "      <td>55.840000</td>\n",
       "      <td>56.439999</td>\n",
       "      <td>55.369999</td>\n",
       "      <td>55.630001</td>\n",
       "      <td>53.880169</td>\n",
       "      <td>52956400</td>\n",
       "    </tr>\n",
       "    <tr>\n",
       "      <th>2022-01-06</th>\n",
       "      <td>55.160000</td>\n",
       "      <td>55.630001</td>\n",
       "      <td>54.490002</td>\n",
       "      <td>54.840000</td>\n",
       "      <td>53.115025</td>\n",
       "      <td>37000400</td>\n",
       "    </tr>\n",
       "    <tr>\n",
       "      <th>2022-01-07</th>\n",
       "      <td>55.360001</td>\n",
       "      <td>55.770000</td>\n",
       "      <td>54.630001</td>\n",
       "      <td>55.720001</td>\n",
       "      <td>53.967346</td>\n",
       "      <td>27703400</td>\n",
       "    </tr>\n",
       "  </tbody>\n",
       "</table>\n",
       "<p>3026 rows × 6 columns</p>\n",
       "</div>"
      ],
      "text/plain": [
       "                 Open       High        Low      Close  Adj Close    Volume\n",
       "Date                                                                       \n",
       "2010-01-04  17.333965  17.969639  17.305504  17.960152  11.128053  54898644\n",
       "2010-01-05  17.950665  17.960152  17.599621  17.703985  10.969335  45714931\n",
       "2010-01-06  17.703985  17.846300  17.561670  17.647058  10.934059  43640975\n",
       "2010-01-07  17.685009  17.713472  17.514231  17.580645  10.892910  41557112\n",
       "2010-01-08  17.666035  17.751423  17.571157  17.722960  10.981088  32049716\n",
       "...               ...        ...        ...        ...        ...       ...\n",
       "2022-01-03  58.500000  58.549999  56.340000  56.650002  54.868088  57219200\n",
       "2022-01-04  56.220001  56.430000  53.939999  54.529999  52.814774  66993100\n",
       "2022-01-05  55.840000  56.439999  55.369999  55.630001  53.880169  52956400\n",
       "2022-01-06  55.160000  55.630001  54.490002  54.840000  53.115025  37000400\n",
       "2022-01-07  55.360001  55.770000  54.630001  55.720001  53.967346  27703400\n",
       "\n",
       "[3026 rows x 6 columns]"
      ]
     },
     "execution_count": 8,
     "metadata": {},
     "output_type": "execute_result"
    }
   ],
   "source": [
    "df_pfe = yf.download('PFE', start=start, end=end)\n",
    "df_pfe"
   ]
  },
  {
   "cell_type": "code",
   "execution_count": 9,
   "metadata": {},
   "outputs": [
    {
     "name": "stdout",
     "output_type": "stream",
     "text": [
      "[*********************100%***********************]  1 of 1 completed\n"
     ]
    },
    {
     "data": {
      "text/html": [
       "<div>\n",
       "<style scoped>\n",
       "    .dataframe tbody tr th:only-of-type {\n",
       "        vertical-align: middle;\n",
       "    }\n",
       "\n",
       "    .dataframe tbody tr th {\n",
       "        vertical-align: top;\n",
       "    }\n",
       "\n",
       "    .dataframe thead th {\n",
       "        text-align: right;\n",
       "    }\n",
       "</style>\n",
       "<table border=\"1\" class=\"dataframe\">\n",
       "  <thead>\n",
       "    <tr style=\"text-align: right;\">\n",
       "      <th></th>\n",
       "      <th>Open</th>\n",
       "      <th>High</th>\n",
       "      <th>Low</th>\n",
       "      <th>Close</th>\n",
       "      <th>Adj Close</th>\n",
       "      <th>Volume</th>\n",
       "    </tr>\n",
       "    <tr>\n",
       "      <th>Date</th>\n",
       "      <th></th>\n",
       "      <th></th>\n",
       "      <th></th>\n",
       "      <th></th>\n",
       "      <th></th>\n",
       "      <th></th>\n",
       "    </tr>\n",
       "  </thead>\n",
       "  <tbody>\n",
       "    <tr>\n",
       "      <th>2010-01-04</th>\n",
       "      <td>3.859</td>\n",
       "      <td>3.859</td>\n",
       "      <td>3.808</td>\n",
       "      <td>3.841</td>\n",
       "      <td>3.841</td>\n",
       "      <td>0</td>\n",
       "    </tr>\n",
       "    <tr>\n",
       "      <th>2010-01-05</th>\n",
       "      <td>3.790</td>\n",
       "      <td>3.800</td>\n",
       "      <td>3.749</td>\n",
       "      <td>3.755</td>\n",
       "      <td>3.755</td>\n",
       "      <td>0</td>\n",
       "    </tr>\n",
       "    <tr>\n",
       "      <th>2010-01-06</th>\n",
       "      <td>3.771</td>\n",
       "      <td>3.837</td>\n",
       "      <td>3.761</td>\n",
       "      <td>3.808</td>\n",
       "      <td>3.808</td>\n",
       "      <td>0</td>\n",
       "    </tr>\n",
       "    <tr>\n",
       "      <th>2010-01-07</th>\n",
       "      <td>3.845</td>\n",
       "      <td>3.859</td>\n",
       "      <td>3.800</td>\n",
       "      <td>3.822</td>\n",
       "      <td>3.822</td>\n",
       "      <td>0</td>\n",
       "    </tr>\n",
       "    <tr>\n",
       "      <th>2010-01-08</th>\n",
       "      <td>3.843</td>\n",
       "      <td>3.851</td>\n",
       "      <td>3.775</td>\n",
       "      <td>3.808</td>\n",
       "      <td>3.808</td>\n",
       "      <td>0</td>\n",
       "    </tr>\n",
       "    <tr>\n",
       "      <th>...</th>\n",
       "      <td>...</td>\n",
       "      <td>...</td>\n",
       "      <td>...</td>\n",
       "      <td>...</td>\n",
       "      <td>...</td>\n",
       "      <td>...</td>\n",
       "    </tr>\n",
       "    <tr>\n",
       "      <th>2022-01-03</th>\n",
       "      <td>1.534</td>\n",
       "      <td>1.635</td>\n",
       "      <td>1.533</td>\n",
       "      <td>1.628</td>\n",
       "      <td>1.628</td>\n",
       "      <td>0</td>\n",
       "    </tr>\n",
       "    <tr>\n",
       "      <th>2022-01-04</th>\n",
       "      <td>1.663</td>\n",
       "      <td>1.686</td>\n",
       "      <td>1.654</td>\n",
       "      <td>1.668</td>\n",
       "      <td>1.668</td>\n",
       "      <td>0</td>\n",
       "    </tr>\n",
       "    <tr>\n",
       "      <th>2022-01-05</th>\n",
       "      <td>1.660</td>\n",
       "      <td>1.710</td>\n",
       "      <td>1.647</td>\n",
       "      <td>1.705</td>\n",
       "      <td>1.705</td>\n",
       "      <td>0</td>\n",
       "    </tr>\n",
       "    <tr>\n",
       "      <th>2022-01-06</th>\n",
       "      <td>1.733</td>\n",
       "      <td>1.744</td>\n",
       "      <td>1.721</td>\n",
       "      <td>1.733</td>\n",
       "      <td>1.733</td>\n",
       "      <td>0</td>\n",
       "    </tr>\n",
       "    <tr>\n",
       "      <th>2022-01-07</th>\n",
       "      <td>1.739</td>\n",
       "      <td>1.801</td>\n",
       "      <td>1.727</td>\n",
       "      <td>1.771</td>\n",
       "      <td>1.771</td>\n",
       "      <td>0</td>\n",
       "    </tr>\n",
       "  </tbody>\n",
       "</table>\n",
       "<p>3023 rows × 6 columns</p>\n",
       "</div>"
      ],
      "text/plain": [
       "             Open   High    Low  Close  Adj Close  Volume\n",
       "Date                                                     \n",
       "2010-01-04  3.859  3.859  3.808  3.841      3.841       0\n",
       "2010-01-05  3.790  3.800  3.749  3.755      3.755       0\n",
       "2010-01-06  3.771  3.837  3.761  3.808      3.808       0\n",
       "2010-01-07  3.845  3.859  3.800  3.822      3.822       0\n",
       "2010-01-08  3.843  3.851  3.775  3.808      3.808       0\n",
       "...           ...    ...    ...    ...        ...     ...\n",
       "2022-01-03  1.534  1.635  1.533  1.628      1.628       0\n",
       "2022-01-04  1.663  1.686  1.654  1.668      1.668       0\n",
       "2022-01-05  1.660  1.710  1.647  1.705      1.705       0\n",
       "2022-01-06  1.733  1.744  1.721  1.733      1.733       0\n",
       "2022-01-07  1.739  1.801  1.727  1.771      1.771       0\n",
       "\n",
       "[3023 rows x 6 columns]"
      ]
     },
     "execution_count": 9,
     "metadata": {},
     "output_type": "execute_result"
    }
   ],
   "source": [
    "rf = yf.download('^TNX','2010-1-1', '2022-1-10')\n",
    "rf"
   ]
  },
  {
   "cell_type": "markdown",
   "metadata": {},
   "source": [
    "# Preliminary check of closing price trend (Chú thích ngoài lề)"
   ]
  },
  {
   "cell_type": "markdown",
   "metadata": {},
   "source": [
    "### Note: Bởi vì trong khi giá đóng cửa (Close) chỉ đơn thuần đề cập đến giá vốn của cổ phiếu vào cuối ngày, giá đóng cửa được điều chỉnh (Adj Close) sẽ xem xét các yếu tố khác như cổ tức, chia tách cổ phiếu và các đợt chào bán cổ phiếu mới. Vì giá đóng cửa được điều chỉnh bắt đầu từ khi giá đóng cửa kết thúc, nên nó có thể được gọi là thước đo chính xác hơn trong việc xác định giá trị của cổ phiếu."
   ]
  },
  {
   "cell_type": "markdown",
   "metadata": {},
   "source": [
    "### Thực hiện quan sát sơ bộ xu hướng của dữ liệu: từ hình có thể thấy giá cổ phiếu và thị trường tăng trưởng tương quan thuận với nhau."
   ]
  },
  {
   "cell_type": "code",
   "execution_count": 10,
   "metadata": {},
   "outputs": [
    {
     "data": {
      "text/plain": [
       "<matplotlib.legend.Legend at 0x17e00b6b8e0>"
      ]
     },
     "execution_count": 10,
     "metadata": {},
     "output_type": "execute_result"
    },
    {
     "data": {
      "image/png": "[encoded data removed]",
      "text/plain": [
       "<Figure size 1500x800 with 1 Axes>"
      ]
     },
     "metadata": {},
     "output_type": "display_data"
    }
   ],
   "source": [
    "df_pfe['Adj Close'].plot(label = 'Pfizer', figsize=(15,8))\n",
    "df_spy['Adj Close'].plot(label = 'SPY')\n",
    "plt.legend()"
   ]
  },
  {
   "cell_type": "markdown",
   "metadata": {},
   "source": [
    "### Và mức độ tăng trưởng cũng tương tự:"
   ]
  },
  {
   "cell_type": "code",
   "execution_count": 11,
   "metadata": {},
   "outputs": [],
   "source": [
    "df_pfe['Cumu'] = df_pfe['Adj Close']/df_pfe['Adj Close'].iloc[0]\n",
    "df_spy['Cumu'] = df_spy['Adj Close']/df_spy['Adj Close'].iloc[0]"
   ]
  },
  {
   "cell_type": "code",
   "execution_count": 37,
   "metadata": {},
   "outputs": [
    {
     "data": {
      "text/plain": [
       "<AxesSubplot:xlabel='Date'>"
      ]
     },
     "execution_count": 37,
     "metadata": {},
     "output_type": "execute_result"
    },
    {
     "data": {
      "image/png": "[encoded data removed]",
      "text/plain": [
       "<Figure size 1500x800 with 1 Axes>"
      ]
     },
     "metadata": {},
     "output_type": "display_data"
    }
   ],
   "source": [
    "df_pfe['Cumu'].plot(label = 'Pfizer', figsize=(15,8))\n",
    "df_spy['Cumu'].plot(label = 'SPY')"
   ]
  },
  {
   "cell_type": "markdown",
   "metadata": {},
   "source": [
    "## Create the required dataset for the model (Clean data)"
   ]
  },
  {
   "cell_type": "code",
   "execution_count": 12,
   "metadata": {},
   "outputs": [],
   "source": [
    "PFE = df_pfe.loc[:, ['Adj Close']]\n",
    "SPY = df_spy.loc[:, ['Adj Close']]\n",
    "rf = rf.loc[:, ['Adj Close']]\n"
   ]
  },
  {
   "cell_type": "code",
   "execution_count": 13,
   "metadata": {},
   "outputs": [],
   "source": [
    "#Tính lợi tức hàng ngày của từng mã giao dịch\n",
    "PFE['pfe_ret'] = PFE['Adj Close'].pct_change(1)\n",
    "SPY['spy_ret'] = SPY['Adj Close'].pct_change(1)\n",
    "rf['rf_r'] = rf['Adj Close'].pct_change(1)"
   ]
  },
  {
   "cell_type": "code",
   "execution_count": 14,
   "metadata": {},
   "outputs": [],
   "source": [
    "# Xoá dòng chưa giá trị rỗng\n",
    "PFE.dropna(axis=0, inplace=True)\n",
    "SPY.dropna(axis=0, inplace=True)\n",
    "rf.dropna(axis=0, inplace=True)"
   ]
  },
  {
   "cell_type": "code",
   "execution_count": 15,
   "metadata": {},
   "outputs": [],
   "source": [
    "PFE.drop(['Adj Close'], axis = 1, inplace=True)\n",
    "SPY.drop(['Adj Close'], axis = 1, inplace=True)\n",
    "rf.drop(['Adj Close'], axis = 1, inplace=True)"
   ]
  },
  {
   "cell_type": "code",
   "execution_count": 16,
   "metadata": {},
   "outputs": [],
   "source": [
    "merge_data = pd.merge(PFE, SPY, on='Date')\n",
    "cleaned_data = pd.merge(merge_data, rf, on='Date')"
   ]
  },
  {
   "cell_type": "code",
   "execution_count": 17,
   "metadata": {},
   "outputs": [],
   "source": [
    "# Export cleaned data to CSV files\n",
    "cleaned_data.to_csv('Cleaned_data.csv')"
   ]
  },
  {
   "cell_type": "code",
   "execution_count": 18,
   "metadata": {},
   "outputs": [
    {
     "data": {
      "text/html": [
       "<div>\n",
       "<style scoped>\n",
       "    .dataframe tbody tr th:only-of-type {\n",
       "        vertical-align: middle;\n",
       "    }\n",
       "\n",
       "    .dataframe tbody tr th {\n",
       "        vertical-align: top;\n",
       "    }\n",
       "\n",
       "    .dataframe thead th {\n",
       "        text-align: right;\n",
       "    }\n",
       "</style>\n",
       "<table border=\"1\" class=\"dataframe\">\n",
       "  <thead>\n",
       "    <tr style=\"text-align: right;\">\n",
       "      <th></th>\n",
       "      <th>pfe_ret</th>\n",
       "      <th>spy_ret</th>\n",
       "      <th>rf_r</th>\n",
       "    </tr>\n",
       "    <tr>\n",
       "      <th>Date</th>\n",
       "      <th></th>\n",
       "      <th></th>\n",
       "      <th></th>\n",
       "    </tr>\n",
       "  </thead>\n",
       "  <tbody>\n",
       "    <tr>\n",
       "      <th>2010-01-05</th>\n",
       "      <td>-0.014263</td>\n",
       "      <td>0.002647</td>\n",
       "      <td>-0.022390</td>\n",
       "    </tr>\n",
       "    <tr>\n",
       "      <th>2010-01-06</th>\n",
       "      <td>-0.003216</td>\n",
       "      <td>0.000704</td>\n",
       "      <td>0.014115</td>\n",
       "    </tr>\n",
       "    <tr>\n",
       "      <th>2010-01-07</th>\n",
       "      <td>-0.003763</td>\n",
       "      <td>0.004221</td>\n",
       "      <td>0.003676</td>\n",
       "    </tr>\n",
       "    <tr>\n",
       "      <th>2010-01-08</th>\n",
       "      <td>0.008095</td>\n",
       "      <td>0.003328</td>\n",
       "      <td>-0.003663</td>\n",
       "    </tr>\n",
       "    <tr>\n",
       "      <th>2010-01-11</th>\n",
       "      <td>0.008030</td>\n",
       "      <td>0.001397</td>\n",
       "      <td>0.002626</td>\n",
       "    </tr>\n",
       "    <tr>\n",
       "      <th>...</th>\n",
       "      <td>...</td>\n",
       "      <td>...</td>\n",
       "      <td>...</td>\n",
       "    </tr>\n",
       "    <tr>\n",
       "      <th>2022-01-03</th>\n",
       "      <td>-0.040643</td>\n",
       "      <td>0.005790</td>\n",
       "      <td>0.076720</td>\n",
       "    </tr>\n",
       "    <tr>\n",
       "      <th>2022-01-04</th>\n",
       "      <td>-0.037423</td>\n",
       "      <td>-0.000335</td>\n",
       "      <td>0.024570</td>\n",
       "    </tr>\n",
       "    <tr>\n",
       "      <th>2022-01-05</th>\n",
       "      <td>0.020172</td>\n",
       "      <td>-0.019202</td>\n",
       "      <td>0.022182</td>\n",
       "    </tr>\n",
       "    <tr>\n",
       "      <th>2022-01-06</th>\n",
       "      <td>-0.014201</td>\n",
       "      <td>-0.000939</td>\n",
       "      <td>0.016422</td>\n",
       "    </tr>\n",
       "    <tr>\n",
       "      <th>2022-01-07</th>\n",
       "      <td>0.016047</td>\n",
       "      <td>-0.003953</td>\n",
       "      <td>0.021927</td>\n",
       "    </tr>\n",
       "  </tbody>\n",
       "</table>\n",
       "<p>3022 rows × 3 columns</p>\n",
       "</div>"
      ],
      "text/plain": [
       "             pfe_ret   spy_ret      rf_r\n",
       "Date                                    \n",
       "2010-01-05 -0.014263  0.002647 -0.022390\n",
       "2010-01-06 -0.003216  0.000704  0.014115\n",
       "2010-01-07 -0.003763  0.004221  0.003676\n",
       "2010-01-08  0.008095  0.003328 -0.003663\n",
       "2010-01-11  0.008030  0.001397  0.002626\n",
       "...              ...       ...       ...\n",
       "2022-01-03 -0.040643  0.005790  0.076720\n",
       "2022-01-04 -0.037423 -0.000335  0.024570\n",
       "2022-01-05  0.020172 -0.019202  0.022182\n",
       "2022-01-06 -0.014201 -0.000939  0.016422\n",
       "2022-01-07  0.016047 -0.003953  0.021927\n",
       "\n",
       "[3022 rows x 3 columns]"
      ]
     },
     "execution_count": 18,
     "metadata": {},
     "output_type": "execute_result"
    }
   ],
   "source": [
    "cleaned_data"
   ]
  },
  {
   "cell_type": "markdown",
   "metadata": {},
   "source": [
    "# Calculate alpha and beta values"
   ]
  },
  {
   "cell_type": "code",
   "execution_count": 19,
   "metadata": {},
   "outputs": [],
   "source": [
    "#Tính phần bù rủi ro:\n",
    "cleaned_data['rp_pfe'] = cleaned_data['pfe_ret'] - cleaned_data['rf_r']\n",
    "cleaned_data['rp_spy'] = cleaned_data['spy_ret'] - cleaned_data['rf_r']"
   ]
  },
  {
   "cell_type": "code",
   "execution_count": 20,
   "metadata": {},
   "outputs": [
    {
     "data": {
      "text/html": [
       "<div>\n",
       "<style scoped>\n",
       "    .dataframe tbody tr th:only-of-type {\n",
       "        vertical-align: middle;\n",
       "    }\n",
       "\n",
       "    .dataframe tbody tr th {\n",
       "        vertical-align: top;\n",
       "    }\n",
       "\n",
       "    .dataframe thead th {\n",
       "        text-align: right;\n",
       "    }\n",
       "</style>\n",
       "<table border=\"1\" class=\"dataframe\">\n",
       "  <thead>\n",
       "    <tr style=\"text-align: right;\">\n",
       "      <th></th>\n",
       "      <th>pfe_ret</th>\n",
       "      <th>spy_ret</th>\n",
       "      <th>rf_r</th>\n",
       "      <th>rp_pfe</th>\n",
       "      <th>rp_spy</th>\n",
       "    </tr>\n",
       "    <tr>\n",
       "      <th>Date</th>\n",
       "      <th></th>\n",
       "      <th></th>\n",
       "      <th></th>\n",
       "      <th></th>\n",
       "      <th></th>\n",
       "    </tr>\n",
       "  </thead>\n",
       "  <tbody>\n",
       "    <tr>\n",
       "      <th>2010-01-05</th>\n",
       "      <td>-0.014263</td>\n",
       "      <td>0.002647</td>\n",
       "      <td>-0.022390</td>\n",
       "      <td>0.008127</td>\n",
       "      <td>0.025037</td>\n",
       "    </tr>\n",
       "    <tr>\n",
       "      <th>2010-01-06</th>\n",
       "      <td>-0.003216</td>\n",
       "      <td>0.000704</td>\n",
       "      <td>0.014115</td>\n",
       "      <td>-0.017330</td>\n",
       "      <td>-0.013411</td>\n",
       "    </tr>\n",
       "    <tr>\n",
       "      <th>2010-01-07</th>\n",
       "      <td>-0.003763</td>\n",
       "      <td>0.004221</td>\n",
       "      <td>0.003676</td>\n",
       "      <td>-0.007440</td>\n",
       "      <td>0.000545</td>\n",
       "    </tr>\n",
       "    <tr>\n",
       "      <th>2010-01-08</th>\n",
       "      <td>0.008095</td>\n",
       "      <td>0.003328</td>\n",
       "      <td>-0.003663</td>\n",
       "      <td>0.011758</td>\n",
       "      <td>0.006991</td>\n",
       "    </tr>\n",
       "    <tr>\n",
       "      <th>2010-01-11</th>\n",
       "      <td>0.008030</td>\n",
       "      <td>0.001397</td>\n",
       "      <td>0.002626</td>\n",
       "      <td>0.005404</td>\n",
       "      <td>-0.001229</td>\n",
       "    </tr>\n",
       "    <tr>\n",
       "      <th>...</th>\n",
       "      <td>...</td>\n",
       "      <td>...</td>\n",
       "      <td>...</td>\n",
       "      <td>...</td>\n",
       "      <td>...</td>\n",
       "    </tr>\n",
       "    <tr>\n",
       "      <th>2022-01-03</th>\n",
       "      <td>-0.040643</td>\n",
       "      <td>0.005790</td>\n",
       "      <td>0.076720</td>\n",
       "      <td>-0.117363</td>\n",
       "      <td>-0.070930</td>\n",
       "    </tr>\n",
       "    <tr>\n",
       "      <th>2022-01-04</th>\n",
       "      <td>-0.037423</td>\n",
       "      <td>-0.000335</td>\n",
       "      <td>0.024570</td>\n",
       "      <td>-0.061993</td>\n",
       "      <td>-0.024905</td>\n",
       "    </tr>\n",
       "    <tr>\n",
       "      <th>2022-01-05</th>\n",
       "      <td>0.020172</td>\n",
       "      <td>-0.019202</td>\n",
       "      <td>0.022182</td>\n",
       "      <td>-0.002010</td>\n",
       "      <td>-0.041384</td>\n",
       "    </tr>\n",
       "    <tr>\n",
       "      <th>2022-01-06</th>\n",
       "      <td>-0.014201</td>\n",
       "      <td>-0.000939</td>\n",
       "      <td>0.016422</td>\n",
       "      <td>-0.030623</td>\n",
       "      <td>-0.017362</td>\n",
       "    </tr>\n",
       "    <tr>\n",
       "      <th>2022-01-07</th>\n",
       "      <td>0.016047</td>\n",
       "      <td>-0.003953</td>\n",
       "      <td>0.021927</td>\n",
       "      <td>-0.005881</td>\n",
       "      <td>-0.025881</td>\n",
       "    </tr>\n",
       "  </tbody>\n",
       "</table>\n",
       "<p>3022 rows × 5 columns</p>\n",
       "</div>"
      ],
      "text/plain": [
       "             pfe_ret   spy_ret      rf_r    rp_pfe    rp_spy\n",
       "Date                                                        \n",
       "2010-01-05 -0.014263  0.002647 -0.022390  0.008127  0.025037\n",
       "2010-01-06 -0.003216  0.000704  0.014115 -0.017330 -0.013411\n",
       "2010-01-07 -0.003763  0.004221  0.003676 -0.007440  0.000545\n",
       "2010-01-08  0.008095  0.003328 -0.003663  0.011758  0.006991\n",
       "2010-01-11  0.008030  0.001397  0.002626  0.005404 -0.001229\n",
       "...              ...       ...       ...       ...       ...\n",
       "2022-01-03 -0.040643  0.005790  0.076720 -0.117363 -0.070930\n",
       "2022-01-04 -0.037423 -0.000335  0.024570 -0.061993 -0.024905\n",
       "2022-01-05  0.020172 -0.019202  0.022182 -0.002010 -0.041384\n",
       "2022-01-06 -0.014201 -0.000939  0.016422 -0.030623 -0.017362\n",
       "2022-01-07  0.016047 -0.003953  0.021927 -0.005881 -0.025881\n",
       "\n",
       "[3022 rows x 5 columns]"
      ]
     },
     "execution_count": 20,
     "metadata": {},
     "output_type": "execute_result"
    }
   ],
   "source": [
    "cleaned_data"
   ]
  },
  {
   "cell_type": "markdown",
   "metadata": {},
   "source": [
    "### Chạy hàm hồi quy thống kê của thư viện scipy để tính chỉ số beta và alpha:"
   ]
  },
  {
   "cell_type": "code",
   "execution_count": 21,
   "metadata": {},
   "outputs": [
    {
     "name": "stdout",
     "output_type": "stream",
     "text": [
      "LinregressResult(slope=0.8496352061355666, intercept=4.425927027620907e-05, rvalue=0.9287899649242718, pvalue=0.0, stderr=0.006169139384268077, intercept_stderr=0.000186827709139129)\n"
     ]
    }
   ],
   "source": [
    "hoiquy = stats.linregress(cleaned_data['rp_pfe'], cleaned_data['rp_spy'])\n",
    "print(hoiquy)"
   ]
  },
  {
   "cell_type": "markdown",
   "metadata": {},
   "source": [
    "Có thể thấy từ kết quả sau khi chạy hàm hồi quy tuyến tính cho dữ liệu, beta cần tìm chính là slope (hệ số góc của đường hồi quy) và alpha là intercept (hệ số chặn) và alpha cũng là hệ số rf cần tìm để tính CAPM."
   ]
  },
  {
   "cell_type": "code",
   "execution_count": 22,
   "metadata": {
    "scrolled": true
   },
   "outputs": [
    {
     "name": "stdout",
     "output_type": "stream",
     "text": [
      "Beta for Pfizer stock is 0.8496352061355666 and alpha is 4.425927027620907e-05\n"
     ]
    }
   ],
   "source": [
    "beta, rf, r_value, p_value, std_error = hoiquy\n",
    "print('Beta for Pfizer stock is {} and alpha is {}'.format(beta, rf))"
   ]
  },
  {
   "cell_type": "markdown",
   "metadata": {},
   "source": [
    "### => Alpha = rf = 3.52682 x e^(-5) = 0,0237635"
   ]
  },
  {
   "cell_type": "markdown",
   "metadata": {},
   "source": [
    "# Calculate CAPM for Pfizer stock"
   ]
  },
  {
   "cell_type": "markdown",
   "metadata": {},
   "source": [
    "### Vì đang xem xét cổ phiếu tại thời điểm mới nhất trong dữ liệu nên tỉ suất sinh lợi thị trường ngày 10/1/2022 sẽ được chọn:"
   ]
  },
  {
   "cell_type": "code",
   "execution_count": 23,
   "metadata": {},
   "outputs": [
    {
     "data": {
      "text/plain": [
       "-0.003953496494621178"
      ]
     },
     "execution_count": 23,
     "metadata": {},
     "output_type": "execute_result"
    }
   ],
   "source": [
    "rm = cleaned_data.loc['2022-01-07', 'spy_ret']\n",
    "rm"
   ]
  },
  {
   "cell_type": "markdown",
   "metadata": {},
   "source": [
    "### Tính Expected return cho cổ phiếu PFE:\n"
   ]
  },
  {
   "cell_type": "code",
   "execution_count": 24,
   "metadata": {},
   "outputs": [
    {
     "name": "stdout",
     "output_type": "stream",
     "text": [
      "The expected return of PFE stock is -0.0033523747731120323\n"
     ]
    }
   ],
   "source": [
    "ER_PFE = rf + (beta * (rm-rf)) \n",
    "print('The expected return of PFE stock is {}'.format(ER_PFE))"
   ]
  },
  {
   "cell_type": "code",
   "execution_count": null,
   "metadata": {},
   "outputs": [],
   "source": []
  },
  {
   "cell_type": "code",
   "execution_count": null,
   "metadata": {},
   "outputs": [],
   "source": []
  }
 ],
 "metadata": {
  "interpreter": {
   "hash": "34efcf26aefc93ca84fc13ce99e07e89c19507afee5635f783e639986a37c2db"
  },
  "kernelspec": {
   "display_name": "Python 3 (ipykernel)",
   "language": "python",
   "name": "python3"
  },
  "language_info": {
   "codemirror_mode": {
    "name": "ipython",
    "version": 3
   },
   "file_extension": ".py",
   "mimetype": "text/x-python",
   "name": "python",
   "nbconvert_exporter": "python",
   "pygments_lexer": "ipython3",
   "version": "3.9.13"
  }
 },
 "nbformat": 4,
 "nbformat_minor": 2
}
